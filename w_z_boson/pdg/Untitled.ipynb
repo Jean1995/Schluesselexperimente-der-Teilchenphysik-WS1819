{
 "cells": [
  {
   "cell_type": "code",
   "execution_count": 16,
   "metadata": {},
   "outputs": [],
   "source": [
    "\n",
    "import matplotlib.pyplot as plt\n",
    "plt.rcParams['figure.figsize'] = (10, 8)\n",
    "plt.rcParams['font.size'] = 16\n",
    "plt.rcParams['lines.linewidth'] = 2\n",
    "\n"
   ]
  },
  {
   "cell_type": "code",
   "execution_count": 17,
   "metadata": {},
   "outputs": [],
   "source": [
    "year = np.array([\n",
    "    1984,\n",
    "    1988,\n",
    "    #LEP geht in Betrieb\n",
    "    1990,\n",
    "    1992,\n",
    "    1994,\n",
    "    1995,\n",
    "    1996,\n",
    "    1997,\n",
    "    1998,\n",
    "    1999,\n",
    "    2000,\n",
    "    #hier ändert sich das letzte mal der Wert für das Z Boson (LEP abgestellt?)\n",
    "    2001,\n",
    "    2002,\n",
    "    2003,\n",
    "    2004,\n",
    "    2005,\n",
    "    2006,\n",
    "    2007,\n",
    "    2008,\n",
    "    2009,\n",
    "    2010,\n",
    "    2011,\n",
    "    #Tevatron macht dicht\n",
    "    2012,\n",
    "    2016\n",
    "])"
   ]
  },
  {
   "cell_type": "code",
   "execution_count": 18,
   "metadata": {},
   "outputs": [],
   "source": [
    "# \"our fit\"\n",
    "m_w = np.array([\n",
    "    80.9,\n",
    "    81.0,\n",
    "    80.6,\n",
    "    80.22,\n",
    "    80.22,\n",
    "    80.33,\n",
    "    80.33,\n",
    "    80.36,\n",
    "    80.41,\n",
    "    80.42,\n",
    "    80.43,\n",
    "    80.43,\n",
    "    80.423,\n",
    "    80.425,\n",
    "    80.425,\n",
    "    80.425,\n",
    "    80.403,\n",
    "    80.403,\n",
    "    80.398,\n",
    "    80.398,\n",
    "    80.399,\n",
    "    80.399,\n",
    "    80.385,\n",
    "    80.385\n",
    "])"
   ]
  },
  {
   "cell_type": "code",
   "execution_count": 19,
   "metadata": {},
   "outputs": [],
   "source": [
    "m_w_error = np.array([\n",
    "    1.5,\n",
    "    1.3,\n",
    "    0.4,\n",
    "    0.26,\n",
    "    0.26,\n",
    "    0.15,\n",
    "    0.15,\n",
    "    0.12,\n",
    "    0.1,\n",
    "    0.05,\n",
    "    0.05,\n",
    "    0.04,\n",
    "    0.039,\n",
    "    0.038,\n",
    "    0.038,\n",
    "    0.038,\n",
    "    0.029,\n",
    "    0.029,\n",
    "    0.025,\n",
    "    0.025,\n",
    "    0.023,\n",
    "    0.023,\n",
    "    0.015,\n",
    "    0.015\n",
    "])"
   ]
  },
  {
   "cell_type": "code",
   "execution_count": 20,
   "metadata": {},
   "outputs": [],
   "source": [
    "m_z = np.array([\n",
    "    95.6,\n",
    "    92.4,\n",
    "    91.161,\n",
    "    91.173,\n",
    "    91.187,\n",
    "    91.187,\n",
    "    91.187,\n",
    "    91.187,\n",
    "    91.187,\n",
    "    91.187,\n",
    "    91.1882,\n",
    "    91.1876,\n",
    "    91.1876,\n",
    "    91.1876,\n",
    "    91.1876,\n",
    "    91.1876,\n",
    "    91.1876,\n",
    "    91.1876,\n",
    "    91.1876,\n",
    "    91.1876,\n",
    "    91.1876,\n",
    "    91.1876,\n",
    "    91.1876,\n",
    "    91.1876\n",
    "])"
   ]
  },
  {
   "cell_type": "code",
   "execution_count": 21,
   "metadata": {},
   "outputs": [],
   "source": [
    "m_z_error = np.array([\n",
    "    1.4,\n",
    "    1.8,\n",
    "    0.031,\n",
    "    0.02,\n",
    "    0.007,\n",
    "    0.007,\n",
    "    0.007,\n",
    "    0.007,\n",
    "    0.007,\n",
    "    0.007,\n",
    "    0.0022,\n",
    "    0.0021,\n",
    "    0.0021,\n",
    "    0.0021,\n",
    "    0.0021,\n",
    "    0.0021,\n",
    "    0.0021,\n",
    "    0.0021,\n",
    "    0.0021,\n",
    "    0.0021,\n",
    "    0.0021,\n",
    "    0.0021,\n",
    "    0.0021,\n",
    "    0.0021\n",
    "])"
   ]
  },
  {
   "cell_type": "code",
   "execution_count": 32,
   "metadata": {},
   "outputs": [
    {
     "data": {
      "text/plain": [
       "<ErrorbarContainer object of 3 artists>"
      ]
     },
     "execution_count": 32,
     "metadata": {},
     "output_type": "execute_result"
    },
    {
     "data": {
      "image/png": "[encoded data removed]",
      "text/plain": [
       "<Figure size 432x288 with 1 Axes>"
      ]
     },
     "metadata": {},
     "output_type": "display_data"
    }
   ],
   "source": [
    "plt.errorbar(year, m_w, yerr=m_w_error, fmt='.', capthick=2)"
   ]
  },
  {
   "cell_type": "code",
   "execution_count": 33,
   "metadata": {},
   "outputs": [
    {
     "data": {
      "text/plain": [
       "<ErrorbarContainer object of 3 artists>"
      ]
     },
     "execution_count": 33,
     "metadata": {},
     "output_type": "execute_result"
    },
    {
     "data": {
      "image/png": "[encoded data removed]",
      "text/plain": [
       "<Figure size 432x288 with 1 Axes>"
      ]
     },
     "metadata": {},
     "output_type": "display_data"
    }
   ],
   "source": [
    "plt.errorbar(year, m_z, yerr=m_z_error, fmt='.', capthick=2)"
   ]
  },
  {
   "cell_type": "code",
   "execution_count": null,
   "metadata": {},
   "outputs": [],
   "source": []
  }
 ],
 "metadata": {
  "kernelspec": {
   "display_name": "Python 3",
   "language": "python",
   "name": "python3"
  },
  "language_info": {
   "codemirror_mode": {
    "name": "ipython",
    "version": 3
   },
   "file_extension": ".py",
   "mimetype": "text/x-python",
   "name": "python",
   "nbconvert_exporter": "python",
   "pygments_lexer": "ipython3",
   "version": "3.6.6"
  }
 },
 "nbformat": 4,
 "nbformat_minor": 2
}
